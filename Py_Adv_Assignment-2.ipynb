{
 "cells": [
  {
   "cell_type": "raw",
   "id": "a47679e2",
   "metadata": {},
   "source": [
    "Q1. What is the relationship between classes and modules?\n",
    "\n",
    "Modules are collections of functions and constants. They have classes inside them but we cannot change them.\n",
    "\n",
    "where as classes contains methods and we can change those methods.\n",
    "Modules are already created library there are different modules for different usage so that a user dont have to create a\n",
    "complex code."
   ]
  },
  {
   "cell_type": "raw",
   "id": "24bc8f20",
   "metadata": {},
   "source": [
    "#Q2. How do you make instances and classes?\n",
    "\n",
    "#to make class\n",
    "class MyClass:\n",
    "    def __init__(self,a):\n",
    "        self.a=a\n",
    "        print(a)\n",
    "#To create instance        \n",
    "obj = MyClass(10)"
   ]
  },
  {
   "cell_type": "raw",
   "id": "03bb8857",
   "metadata": {},
   "source": [
    "Q3. Where and how should be class attributes created?\n",
    "\n",
    "class attributes are nothing but variables inside class block.\n",
    "class MyClass:\n",
    "    x = 10       #class attribute\n",
    "    def __init__(self,a):\n",
    "        self.a = a "
   ]
  },
  {
   "cell_type": "raw",
   "id": "82e5ec0b",
   "metadata": {},
   "source": [
    "Q4. Where and how are instance attributes created?\n",
    "\n",
    "instance attributes are created inside a function in a class\n",
    "class MyClass:\n",
    "    x = 10      \n",
    "    def __init__(self,a):\n",
    "        self.a = a          #instance attribute"
   ]
  },
  {
   "cell_type": "raw",
   "id": "6721270d",
   "metadata": {},
   "source": [
    "Q5. What does the term 'self' in a Python class mean?\n",
    "\n",
    "self is not a keyword, but it is customary amongst coder to use a first word inside a function as self\n",
    "it connects the function to the class. So that an object can access that method. also it binds instance attributes to arguement."
   ]
  },
  {
   "cell_type": "raw",
   "id": "317e1569",
   "metadata": {},
   "source": [
    "\"\"\"Q6. How does a Python class handle operator overloading?\n",
    "\n",
    "Python Classes handle operator overloading by using special methods called Magic methods. these special methods usually begin and end with __ (double underscore) Magic methods for basic arithmetic operators are:\n",
    "\n",
    "for + >> __add__\n",
    "for - >> __sub__\n",
    "\"\"\"\n",
    "class Points:\n",
    "    def __init__(self,x=0,y=0):\n",
    "        self.x = x\n",
    "        self.y = y\n",
    "p1 = Points(10,20)\n",
    "p2 = Points(1,2)\n",
    "\n",
    "print(p1+p2)\n",
    ">>Error\n",
    "\n",
    "operator Overloading\n",
    "class Points:\n",
    "    def __init__(self,x=0,y=0):\n",
    "        self.x = x\n",
    "        self.y = y\n",
    "        \n",
    "    def __add__(self,other):\n",
    "        X = self.x + other.x\n",
    "        Y = self.y + other.y\n",
    "        return X,Y\n",
    "p1 = Points(10,20)\n",
    "p2 = Points(1,2)\n",
    "\n",
    "print(p1+p2)\n",
    ">>(11,22)"
   ]
  },
  {
   "cell_type": "code",
   "execution_count": 11,
   "id": "03b4101e",
   "metadata": {},
   "outputs": [],
   "source": [
    "class Points:\n",
    "    def __init__(self,x=0,y=0):\n",
    "        self.x = x\n",
    "        self.y = y\n",
    "        \n",
    "    def __add__(self,other):\n",
    "        X = self.x + other.x\n",
    "        Y = self.y + other.y\n",
    "        return X,Y\n",
    "p1 = Points(10,20)\n",
    "p2 = Points(1,2)\n",
    "\n",
    "print(p1+p2)"
   ]
  },
  {
   "cell_type": "raw",
   "id": "d3c23fa9",
   "metadata": {},
   "source": [
    "Q7. When do you consider allowing operator overloading of your classes?\n",
    "\n",
    ">>When we want to have different meaning for the same operator accroding to the context we use operator overloading."
   ]
  },
  {
   "cell_type": "raw",
   "id": "2843b135",
   "metadata": {},
   "source": [
    "Q8. What is the most popular form of operator overloading?\n",
    "\n",
    "The most popular form of operator overloading in python is by special methods called Magic methods. Which usually beign and end with double underscore __<method name>__.\n",
    "\n",
    "class A:\n",
    "    def __init__(self,a):\n",
    "        self.a = a\n",
    "    def __add__(self,o):\n",
    "        return self.a+o.a\n",
    "obj1 = A(1)\n",
    "obj2 = A(2)\n",
    "obj3 = A('Nazir')\n",
    "obj4 = A(' Qazi')\n",
    "print(f'Sum -> {obj1+obj2}')\n",
    "print(f'String Concatenation -> {obj3+obj4}')\n",
    "Sum -> 3\n",
    "String Concatenation -> Nazir Qazi"
   ]
  },
  {
   "cell_type": "raw",
   "id": "a293fd64",
   "metadata": {},
   "source": [
    "Q9. What are the two most important concepts to grasp in order to comprehend Python OOP code?\n",
    "\n",
    "Inheritence\n",
    "Abstraction\n",
    "Polymorphism\n",
    "Encapsulation"
   ]
  }
 ],
 "metadata": {
  "kernelspec": {
   "display_name": "Python 3",
   "language": "python",
   "name": "python3"
  },
  "language_info": {
   "codemirror_mode": {
    "name": "ipython",
    "version": 3
   },
   "file_extension": ".py",
   "mimetype": "text/x-python",
   "name": "python",
   "nbconvert_exporter": "python",
   "pygments_lexer": "ipython3",
   "version": "3.8.8"
  }
 },
 "nbformat": 4,
 "nbformat_minor": 5
}
