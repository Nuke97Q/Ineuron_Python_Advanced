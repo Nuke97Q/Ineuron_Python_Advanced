{
 "cells": [
  {
   "cell_type": "raw",
   "id": "e0a935a3",
   "metadata": {},
   "source": [
    "Q1. What is the purpose of Python's OOP?\n",
    "\n",
    "OOP is much simpler to understand and use in Python than in other languages, such as C++ or Java. As a dynamically typed scripting language, Python removes much of the syntactic clutter and complexity that clouds OOP in other tools. In fact, most of the OOP story in Python boils down to this expression: object.attribute\n",
    "Following are the advantages:\n",
    "1) Reusability of code\n",
    "2) Readability\n",
    "3) Concise"
   ]
  },
  {
   "cell_type": "raw",
   "id": "f98a1c1b",
   "metadata": {},
   "source": [
    "Q2. Where does an inheritance search look for an attribute?\n",
    "\n",
    "Attribute fetches are simply tree searches. The term inheritance is applied because objects lower in a tree inherit attributes attached to objects higher in that tree. As the search proceeds from the bottom up, in a sense, the objects linked into a tree are the union of all the attributes defined in all their tree parents, all the way up the tree.\n",
    "Python really does climb this tree at runtime searching for attributes every time we use the object. attribute expression"
   ]
  },
  {
   "cell_type": "raw",
   "id": "289a830a",
   "metadata": {},
   "source": [
    "Q3. How do you distinguish between a class object and an instance object?\n",
    "\n",
    "class Parent:\n",
    "    def child(self):\n",
    "        print('Im child')\n",
    "def beta():\n",
    "    print('Im beta')\n",
    "    \n",
    "class object:\n",
    "obj = Parent()\n",
    "\n",
    "instance object:\n",
    "ob = beta()"
   ]
  },
  {
   "cell_type": "raw",
   "id": "45976800",
   "metadata": {},
   "source": [
    "Q4. What makes the first argument in a class’s method function special?\n",
    "\n",
    "class method functions first argument is generally self(not a keyword you can use any other variable)\n",
    "self redirects the method to class and it can be invoked by object of class."
   ]
  },
  {
   "cell_type": "raw",
   "id": "a9879b91",
   "metadata": {},
   "source": [
    "Q5. What is the purpose of the __init__ method?\n",
    "\n",
    "__init__ method is a generator. when creating a class generator is automatically get called.whatever inside __init__ block"
   ]
  },
  {
   "cell_type": "raw",
   "id": "444c700b",
   "metadata": {},
   "source": [
    "Q6. What is the process for creating a class instance?\n",
    "\n",
    "to create a instance of a class make a variable and pass class to it\n",
    ">>variable=my_class()"
   ]
  },
  {
   "cell_type": "raw",
   "id": "c716e4de",
   "metadata": {},
   "source": [
    "Q7. What is the process for creating a class?\n",
    "\n",
    "use a key word class and give class name \n",
    ">> class My_class:\n",
    "    pass"
   ]
  },
  {
   "cell_type": "raw",
   "id": "9c9fcaf6",
   "metadata": {},
   "source": [
    "Q8. How would you define the superclasses of a class?\n",
    "\n",
    "a superclass is a class from which subclasses are created."
   ]
  }
 ],
 "metadata": {
  "kernelspec": {
   "display_name": "Python 3",
   "language": "python",
   "name": "python3"
  },
  "language_info": {
   "codemirror_mode": {
    "name": "ipython",
    "version": 3
   },
   "file_extension": ".py",
   "mimetype": "text/x-python",
   "name": "python",
   "nbconvert_exporter": "python",
   "pygments_lexer": "ipython3",
   "version": "3.8.8"
  }
 },
 "nbformat": 4,
 "nbformat_minor": 5
}
